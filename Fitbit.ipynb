{
  "metadata": {
    "kernelspec": {
      "language": "python",
      "display_name": "Python 3",
      "name": "python3"
    },
    "language_info": {
      "name": "python",
      "version": "3.10.14",
      "mimetype": "text/x-python",
      "codemirror_mode": {
        "name": "ipython",
        "version": 3
      },
      "pygments_lexer": "ipython3",
      "nbconvert_exporter": "python",
      "file_extension": ".py"
    },
    "kaggle": {
      "accelerator": "none",
      "dataSources": [
        {
          "sourceId": 2314697,
          "sourceType": "datasetVersion",
          "datasetId": 661950
        },
        {
          "sourceId": 165007451,
          "sourceType": "kernelVersion"
        }
      ],
      "dockerImageVersionId": 30775,
      "isInternetEnabled": false,
      "language": "python",
      "sourceType": "notebook",
      "isGpuEnabled": false
    },
    "colab": {
      "name": "Fitbit",
      "provenance": [],
      "include_colab_link": true
    }
  },
  "nbformat_minor": 0,
  "nbformat": 4,
  "cells": [
    {
      "cell_type": "markdown",
      "metadata": {
        "id": "view-in-github",
        "colab_type": "text"
      },
      "source": [
        "<a href=\"https://colab.research.google.com/github/BoopathyRajaraman/BellaBeatCaseStudy/blob/main/Fitbit.ipynb\" target=\"_parent\"><img src=\"https://colab.research.google.com/assets/colab-badge.svg\" alt=\"Open In Colab\"/></a>"
      ]
    },
    {
      "source": [
        "\n",
        "# IMPORTANT: RUN THIS CELL IN ORDER TO IMPORT YOUR KAGGLE DATA SOURCES\n",
        "# TO THE CORRECT LOCATION (/kaggle/input) IN YOUR NOTEBOOK,\n",
        "# THEN FEEL FREE TO DELETE THIS CELL.\n",
        "# NOTE: THIS NOTEBOOK ENVIRONMENT DIFFERS FROM KAGGLE'S PYTHON\n",
        "# ENVIRONMENT SO THERE MAY BE MISSING LIBRARIES USED BY YOUR\n",
        "# NOTEBOOK.\n",
        "\n",
        "import os\n",
        "import sys\n",
        "from tempfile import NamedTemporaryFile\n",
        "from urllib.request import urlopen\n",
        "from urllib.parse import unquote, urlparse\n",
        "from urllib.error import HTTPError\n",
        "from zipfile import ZipFile\n",
        "import tarfile\n",
        "import shutil\n",
        "\n",
        "CHUNK_SIZE = 40960\n",
        "DATA_SOURCE_MAPPING = 'animal-crossing-new-horizons-nookplaza-dataset:https%3A%2F%2Fstorage.googleapis.com%2Fkaggle-data-sets%2F661950%2F2314697%2Fbundle%2Farchive.zip%3FX-Goog-Algorithm%3DGOOG4-RSA-SHA256%26X-Goog-Credential%3Dgcp-kaggle-com%2540kaggle-161607.iam.gserviceaccount.com%252F20241001%252Fauto%252Fstorage%252Fgoog4_request%26X-Goog-Date%3D20241001T204840Z%26X-Goog-Expires%3D259200%26X-Goog-SignedHeaders%3Dhost%26X-Goog-Signature%3Da68308c3c8bd4522c76b1bdec606fd0c3093173bad81e8ce6fc76eb70c59f90104a5fae7c774086cb854854e9195872176a4e00ede8561d94b67a9a1fa82b234a21c5c44f20e8917035826877b5d4562ba33ee50b2c79ea2af219b4874276cbe03b8f28a4b43989eb2c90eef742c00d87d9b3ef7ea83ab445ee9b47ffff870f4e91835ff5444544fe7be65ead2bf223b39edcf8201a70270eb79932368ca89b3e9671b0fd59b51e54812955e6427d9a30a65b8d066335c8de575bb18513795045457b2a515d4f7554f40563cd199fcaada86795d6cf1b67cd5dbf1e49c1be316cb999168ae50accdc74bb4b1585727fdb34c5bedf0f5e85ca47b15917d7ca5e7'\n",
        "\n",
        "KAGGLE_INPUT_PATH='/kaggle/input'\n",
        "KAGGLE_WORKING_PATH='/kaggle/working'\n",
        "KAGGLE_SYMLINK='kaggle'\n",
        "\n",
        "!umount /kaggle/input/ 2> /dev/null\n",
        "shutil.rmtree('/kaggle/input', ignore_errors=True)\n",
        "os.makedirs(KAGGLE_INPUT_PATH, 0o777, exist_ok=True)\n",
        "os.makedirs(KAGGLE_WORKING_PATH, 0o777, exist_ok=True)\n",
        "\n",
        "try:\n",
        "  os.symlink(KAGGLE_INPUT_PATH, os.path.join(\"..\", 'input'), target_is_directory=True)\n",
        "except FileExistsError:\n",
        "  pass\n",
        "try:\n",
        "  os.symlink(KAGGLE_WORKING_PATH, os.path.join(\"..\", 'working'), target_is_directory=True)\n",
        "except FileExistsError:\n",
        "  pass\n",
        "\n",
        "for data_source_mapping in DATA_SOURCE_MAPPING.split(','):\n",
        "    directory, download_url_encoded = data_source_mapping.split(':')\n",
        "    download_url = unquote(download_url_encoded)\n",
        "    filename = urlparse(download_url).path\n",
        "    destination_path = os.path.join(KAGGLE_INPUT_PATH, directory)\n",
        "    try:\n",
        "        with urlopen(download_url) as fileres, NamedTemporaryFile() as tfile:\n",
        "            total_length = fileres.headers['content-length']\n",
        "            print(f'Downloading {directory}, {total_length} bytes compressed')\n",
        "            dl = 0\n",
        "            data = fileres.read(CHUNK_SIZE)\n",
        "            while len(data) > 0:\n",
        "                dl += len(data)\n",
        "                tfile.write(data)\n",
        "                done = int(50 * dl / int(total_length))\n",
        "                sys.stdout.write(f\"\\r[{'=' * done}{' ' * (50-done)}] {dl} bytes downloaded\")\n",
        "                sys.stdout.flush()\n",
        "                data = fileres.read(CHUNK_SIZE)\n",
        "            if filename.endswith('.zip'):\n",
        "              with ZipFile(tfile) as zfile:\n",
        "                zfile.extractall(destination_path)\n",
        "            else:\n",
        "              with tarfile.open(tfile.name) as tarfile:\n",
        "                tarfile.extractall(destination_path)\n",
        "            print(f'\\nDownloaded and uncompressed: {directory}')\n",
        "    except HTTPError as e:\n",
        "        print(f'Failed to load (likely expired) {download_url} to path {destination_path}')\n",
        "        continue\n",
        "    except OSError as e:\n",
        "        print(f'Failed to load {download_url} to path {destination_path}')\n",
        "        continue\n",
        "\n",
        "print('Data source import complete.')\n"
      ],
      "metadata": {
        "id": "RSqOoW9B18V1"
      },
      "cell_type": "code",
      "outputs": [],
      "execution_count": null
    },
    {
      "cell_type": "code",
      "source": [
        "1.#DATA DESCRIPTION"
      ],
      "metadata": {
        "_kg_hide-output": false,
        "trusted": true,
        "id": "zv70MlKJ18V4"
      },
      "execution_count": null,
      "outputs": []
    },
    {
      "cell_type": "code",
      "source": [
        "import numpy as np\n",
        "import pandas as pd\n",
        "import matplotlib.pyplot as plt\n",
        "plt.style.use('ggplot')\n",
        "import seaborn as sns\n",
        "import datetime as dt"
      ],
      "metadata": {
        "execution": {
          "iopub.status.busy": "2024-10-01T20:38:29.022Z",
          "iopub.execute_input": "2024-10-01T20:38:29.023109Z",
          "iopub.status.idle": "2024-10-01T20:38:30.424664Z",
          "shell.execute_reply.started": "2024-10-01T20:38:29.023042Z",
          "shell.execute_reply": "2024-10-01T20:38:30.423507Z"
        },
        "trusted": true,
        "id": "8QO1gZ8Y18V4"
      },
      "execution_count": null,
      "outputs": []
    },
    {
      "cell_type": "code",
      "source": [
        "df=pd.read_csv(\"C:\\Boo\\DS projects\\Google Capstone Case Study\\BellaBeat\\Data Set 2\\dailyActivity_merged.csv\")"
      ],
      "metadata": {
        "trusted": true,
        "id": "PKrN_d4g18V4"
      },
      "execution_count": null,
      "outputs": []
    },
    {
      "cell_type": "code",
      "source": [
        "df.shape                         #FOR VERIFYING THE TOTAL DATA ON SHEET"
      ],
      "metadata": {
        "id": "bI8LhO5318V5"
      },
      "execution_count": null,
      "outputs": []
    },
    {
      "cell_type": "code",
      "source": [
        "df.columns                       #FOR VERIFYING THE COLUMNS PRESENT"
      ],
      "metadata": {
        "id": "0OO2_V2o18V5"
      },
      "execution_count": null,
      "outputs": []
    },
    {
      "cell_type": "code",
      "source": [
        "df.head()                        #PROVIDES THE DETAILS OF FIRST 5 ROWS"
      ],
      "metadata": {
        "id": "n-Oczn7518V5"
      },
      "execution_count": null,
      "outputs": []
    },
    {
      "cell_type": "code",
      "source": [
        "df.dtypes                        #FOR VERIFYING THE DATATYPES OF THE EACH COLUMNS"
      ],
      "metadata": {
        "id": "SImFYIw818V5"
      },
      "execution_count": null,
      "outputs": []
    },
    {
      "cell_type": "code",
      "source": [
        "2.#DATA CLEANING"
      ],
      "metadata": {
        "id": "QSsItifK18V5"
      },
      "execution_count": null,
      "outputs": []
    },
    {
      "cell_type": "code",
      "source": [
        "df['Id']=df['Id'].astype(str)                      #FOR CHANGING THE DATATYPE"
      ],
      "metadata": {
        "id": "J1ZH8WjZ18V6"
      },
      "execution_count": null,
      "outputs": []
    },
    {
      "cell_type": "code",
      "source": [
        "df['ActivityDate'] = pd.to_datetime(df['ActivityDate'], format='%m/%d/%Y')\n",
        "df.dtypes                                          #FOR CHANGING THE DATE FORMAT"
      ],
      "metadata": {
        "id": "LtOma0xw18V6"
      },
      "execution_count": null,
      "outputs": []
    },
    {
      "cell_type": "code",
      "source": [
        "df.columns=df.columns.str.lower()                  #FOR CHANGING THE COLUMN NAME TO LOWER CASE\n",
        "df"
      ],
      "metadata": {
        "id": "KJfHYE9S18V6"
      },
      "execution_count": null,
      "outputs": []
    },
    {
      "cell_type": "code",
      "source": [
        "day_of_week=df['activitydate'].dt.day_name()       #FOR ADDING THE DATE COLUMN TO SPECIFTY THE NAME OF THE DAY\n",
        "df['day_of_week']=day_of_week\n",
        "df"
      ],
      "metadata": {
        "id": "o6doNSpi18V6"
      },
      "execution_count": null,
      "outputs": []
    },
    {
      "cell_type": "code",
      "source": [
        "df['week_number']=df['activitydate'].dt.weekday    #FOR ADDING THE DATE COLUMN TO SPECIFY THE WEEK NUMBER\n",
        "df"
      ],
      "metadata": {
        "id": "PhKWnY1l18V6"
      },
      "execution_count": null,
      "outputs": []
    },
    {
      "cell_type": "code",
      "source": [
        "pd.isnull(df).sum()                                #FOR CHECKING NULL VALUES"
      ],
      "metadata": {
        "id": "F8Pm6ddi18V6"
      },
      "execution_count": null,
      "outputs": []
    },
    {
      "cell_type": "code",
      "source": [
        "df.isna().sum()                                    #FOR RECHECKING NULL VALUES"
      ],
      "metadata": {
        "id": "rfpyK3Cs18V7"
      },
      "execution_count": null,
      "outputs": []
    },
    {
      "cell_type": "code",
      "source": [
        "df.duplicated().sum()                              #FOR CHECKING DUPLICATES"
      ],
      "metadata": {
        "id": "khy9TR1t18V7"
      },
      "execution_count": null,
      "outputs": []
    },
    {
      "cell_type": "code",
      "source": [
        "df.columns"
      ],
      "metadata": {
        "id": "zWgMShtT18V7"
      },
      "execution_count": null,
      "outputs": []
    },
    {
      "cell_type": "code",
      "source": [
        "df2=df[['id', 'activitydate', 'totalsteps', 'totaldistance', 'veryactiveminutes', 'fairlyactiveminutes',\n",
        "        'lightlyactiveminutes', 'sedentaryminutes', 'calories']].copy()\n",
        "df2                                    #FOR CREATING SUBSET FOR REQUIRED COLUMNS"
      ],
      "metadata": {
        "id": "PgUaF3Qu18V7"
      },
      "execution_count": null,
      "outputs": []
    },
    {
      "cell_type": "code",
      "source": [
        "total_count = df['id'].count()          #FOR FINDING THE TOTAL COUNTS OF ROW\n",
        "total_count"
      ],
      "metadata": {
        "id": "4tb3P6E118V7"
      },
      "execution_count": null,
      "outputs": []
    },
    {
      "cell_type": "code",
      "source": [
        "total_unique_count = df['id'].nunique()   #FOR FINDING THE TOTAL UNIQUE COUNTS\n",
        "total_unique_count"
      ],
      "metadata": {
        "id": "fb9kd3km18V7"
      },
      "execution_count": null,
      "outputs": []
    },
    {
      "cell_type": "code",
      "source": [
        "df_unique=df['id'].value_counts()[df['id'].unique()]\n",
        "df_unique                #FOR FINDING THE TOTAL UNIQUE COLUMN AND THEIR COUNTS"
      ],
      "metadata": {
        "id": "AG4G3HyK18V7"
      },
      "execution_count": null,
      "outputs": []
    },
    {
      "cell_type": "code",
      "source": [
        "id_grp=df2.groupby(['id'])\n",
        "id_avg_steps=id_grp['totalsteps'].mean().sort_values(ascending=False)\n",
        "id_avg_steps = id_avg_steps.to_frame()             #FOR SORTING THE ACTIVITY\n",
        "condition=[\n",
        "    (id_avg_steps<= 6000),\n",
        "    (id_avg_steps>6000)& (id_avg_steps<12000),\n",
        "    (id_avg_steps>=12000)\n",
        "]\n",
        "values=['Sedentary','Active','Pro-Active']\n",
        "id_avg_steps['activitylevel']=np.select(condition,values)\n",
        "id_activity_level=id_avg_steps['activitylevel']\n",
        "df2['activitylevel']=[id_activity_level[c] for c in df2['id']]"
      ],
      "metadata": {
        "id": "e6HjMaZA18V7"
      },
      "execution_count": null,
      "outputs": []
    },
    {
      "cell_type": "code",
      "source": [
        "3.#DATA ANALYSIS"
      ],
      "metadata": {
        "id": "iNGOkzRx18V7"
      },
      "execution_count": null,
      "outputs": []
    },
    {
      "cell_type": "code",
      "source": [
        "#Correlation Calories & Steps\n",
        "ax=sns.scatterplot(x='totalsteps',y='calories',data=df2,hue='activitylevel')\n",
        "plt.title('Correlation Calories & Steps')\n",
        "plt.tight_layout()\n",
        "plt.show()"
      ],
      "metadata": {
        "id": "sxu-rUPk18V7"
      },
      "execution_count": null,
      "outputs": []
    },
    {
      "cell_type": "code",
      "source": [
        "#Avg Number of steps per day\n",
        "day_of_week=['Monday','Tuesday','Wednesday','Thursday','Friday', 'Saturday','Sunday']\n",
        "fig , ax= plt.subplots(1,1,figsize=(8,5))\n",
        "day_grp=df.groupby(['day_of_week'])\n",
        "avg_daily_step=day_grp['totalsteps'].mean()\n",
        "avg_step=df['totalsteps'].mean()\n",
        "plt.bar(avg_daily_step.index,avg_daily_step)\n",
        "ax.set_xticks(range(len(day_of_week)))\n",
        "ax.set_xticklabels(day_of_week)\n",
        "ax.axhline(y=avg_daily_step.mean(),color='blue',label='Avg daily steps')\n",
        "ax.set_ylabel('Steps')\n",
        "ax.set_xlabel('Day of week')\n",
        "ax.set_title('Avg Number of steps per day')\n",
        "plt.legend()\n",
        "plt.show()"
      ],
      "metadata": {
        "id": "R3iiGoDP18V8"
      },
      "execution_count": null,
      "outputs": []
    },
    {
      "cell_type": "code",
      "source": [
        "#Percentage of activity level in minutes\n",
        "very_active_mins=df['veryactiveminutes'].sum()\n",
        "fairly_active_mins=df['fairlyactiveminutes'].sum()\n",
        "lightly_active_mins=df['lightlyactiveminutes'].sum()\n",
        "sedentary_mins=df['sedentaryminutes'].sum()\n",
        "slices=[very_active_mins,fairly_active_mins,lightly_active_mins,sedentary_mins]\n",
        "labels=['very_active_mins','fairly_active_mins','lightly_active_mins','sedentary_mins']\n",
        "explode=[0,0,0,0.1]\n",
        "plt.pie(slices,labels=labels,explode=explode,autopct='%1.1f%%')\n",
        "plt.title('% of activity level in minutes')\n",
        "plt.show()"
      ],
      "metadata": {
        "id": "vOBobOqw18V8"
      },
      "execution_count": null,
      "outputs": []
    },
    {
      "cell_type": "code",
      "source": [
        "#Correlation Between Activity Level,Minutes and Calories\n",
        "day_of_week=[0,1,2,3,4,5,6]\n",
        "fig, axes =plt.subplots(nrows=2,ncols=2,figsize=(8,9),dpi=70)\n",
        "sns.scatterplot(data=df2,x='calories',y='sedentaryminutes',hue='activitylevel',ax=axes[0,0],legend=False)\n",
        "sns.scatterplot(data=df2,x='calories',y='lightlyactiveminutes',hue='activitylevel',ax=axes[0,1],legend=False)\n",
        "sns.scatterplot(data=df2,x='calories',y='fairlyactiveminutes',hue='activitylevel',ax=axes[1,0],legend=False)\n",
        "sns.scatterplot(data=df2,x='calories',y='veryactiveminutes',hue='activitylevel',ax=axes[1,1],legend=True)\n",
        "plt.legend(title='Activity level',bbox_to_anchor=(1.5,2.2))\n",
        "fig.suptitle('Correlation Between Activity Level,Minutes and Calories',x=0.5,y=0.92,fontsize=24)\n",
        "plt.show()"
      ],
      "metadata": {
        "id": "7guUGADT18V8"
      },
      "execution_count": null,
      "outputs": []
    },
    {
      "cell_type": "code",
      "source": [],
      "metadata": {
        "id": "DHX1Mx7n18V8"
      },
      "execution_count": null,
      "outputs": []
    }
  ]
}